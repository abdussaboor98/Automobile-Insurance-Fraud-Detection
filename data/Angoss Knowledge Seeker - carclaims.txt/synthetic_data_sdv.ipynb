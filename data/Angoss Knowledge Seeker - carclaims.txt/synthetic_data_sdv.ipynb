{
 "cells": [
  {
   "cell_type": "markdown",
   "id": "c100574e-8be7-4215-8fc7-6bcd45770a01",
   "metadata": {},
   "source": [
    "## Imports"
   ]
  },
  {
   "cell_type": "code",
   "execution_count": 14,
   "id": "23d74541-1d98-48f4-8ddb-4fdf9e1fe9bb",
   "metadata": {},
   "outputs": [],
   "source": [
    "import pandas as pd\n",
    "import numpy as np\n",
    "from sdv.single_table import CTGANSynthesizer\n",
    "import datetime"
   ]
  },
  {
   "cell_type": "markdown",
   "id": "1ba90802-e962-439c-b7a4-b83f705df446",
   "metadata": {},
   "source": [
    "### Load original Dataset"
   ]
  },
  {
   "cell_type": "code",
   "execution_count": null,
   "id": "53013e2c-b394-49fc-b4aa-1aac4ec76131",
   "metadata": {},
   "outputs": [],
   "source": [
    "carclaims = pd.read_csv('./carclaims_original.csv')"
   ]
  },
  {
   "cell_type": "markdown",
   "id": "660fa945-1e30-4dba-be55-d025e33c573b",
   "metadata": {},
   "source": [
    "### Create Metadata of dataframe\n",
    "SVD needs metadata information for creating the synthesizer. We can auto-generate the metadata using the below code provided in the svd docs."
   ]
  },
  {
   "cell_type": "code",
   "execution_count": 3,
   "id": "2b1d5617-2175-43eb-873c-73ab8aa067ef",
   "metadata": {},
   "outputs": [
    {
     "name": "stderr",
     "output_type": "stream",
     "text": [
      "/home/abdussaboor/.virtualenvs/mlr503-project/lib/python3.12/site-packages/sdv/metadata/visualization.py:118: RuntimeWarning: Graphviz does not seem to be installed on this system. For full metadata visualization capabilities, please make sure to have its binaries propertly installed: https://graphviz.gitlab.io/download/\n",
      "  warnings.warn(warning_message, RuntimeWarning)\n"
     ]
    }
   ],
   "source": [
    "from sdv.metadata import Metadata\n",
    "\n",
    "# 1. auto-detect metadata based in your data\n",
    "metadata = Metadata.detect_from_dataframes(\n",
    "    data={\n",
    "        'carclaims': carclaims\n",
    "    })\n",
    "\n",
    "# 2. carefully inspect and update your metadata\n",
    "# Does not work in WSL, needs to be investigated further\n",
    "# metadata.visualize()\n",
    "\n",
    "metadata.validate()\n",
    "\n",
    "# 3. when you're done, save it to a file for future use\n",
    "metadata.save_to_json('carclaims_metadata.json')"
   ]
  },
  {
   "cell_type": "markdown",
   "id": "5d99d33e-adda-4742-a252-83759a3d307e",
   "metadata": {},
   "source": [
    "### Create the CTGAN syhthesizer and fit it to the data"
   ]
  },
  {
   "cell_type": "code",
   "execution_count": 5,
   "id": "9a51a77f-88de-472a-b0e2-51ac0b536d67",
   "metadata": {},
   "outputs": [],
   "source": [
    "synthesizer = CTGANSynthesizer(metadata)\n",
    "synthesizer.fit(carclaims)"
   ]
  },
  {
   "cell_type": "markdown",
   "id": "11eb3a31-cabe-4627-91c8-218acff05790",
   "metadata": {},
   "source": [
    "### Sample the synthetic data using the fitted synthesizer"
   ]
  },
  {
   "cell_type": "code",
   "execution_count": 19,
   "id": "f1730c4d-31c7-4090-ab59-a28479e56cbc",
   "metadata": {},
   "outputs": [],
   "source": [
    "synthetic_data = synthesizer.sample(num_rows=1000000) # Returns numpy array\n",
    "synthetic_df = pd.DataFrame(synthetic_data)\n",
    "synthetic_df.to_csv(f'./carclaims_synthetic_{datetime.datetime.now()}.csv', index=False)"
   ]
  }
 ],
 "metadata": {
  "kernelspec": {
   "display_name": "Python 3 (ipykernel)",
   "language": "python",
   "name": "python3"
  },
  "language_info": {
   "codemirror_mode": {
    "name": "ipython",
    "version": 3
   },
   "file_extension": ".py",
   "mimetype": "text/x-python",
   "name": "python",
   "nbconvert_exporter": "python",
   "pygments_lexer": "ipython3",
   "version": "3.12.7"
  }
 },
 "nbformat": 4,
 "nbformat_minor": 5
}
