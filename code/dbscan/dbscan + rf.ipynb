{
 "cells": [
  {
   "cell_type": "code",
   "execution_count": 1,
   "metadata": {},
   "outputs": [],
   "source": [
    "import pandas as pd\n",
    "import numpy as np\n",
    "from sklearn.model_selection import train_test_split\n",
    "from sklearn.preprocessing import StandardScaler\n",
    "import matplotlib.pyplot as plt\n",
    "import pandas as pd\n",
    "from sklearn.preprocessing import OneHotEncoder, OrdinalEncoder\n",
    "from sklearn.metrics import (\n",
    "    precision_score,\n",
    "    recall_score,\n",
    "    f1_score,\n",
    "    accuracy_score,\n",
    ")\n",
    "from sklearn.manifold import TSNE\n",
    "from sklearn.cluster import DBSCAN\n",
    "from sklearn.neighbors import NearestNeighbors\n",
    "from sdv.single_table import TVAESynthesizer\n",
    "from sdv.metadata import Metadata\n",
    "from xgboost import XGBClassifier\n",
    "from skopt import BayesSearchCV\n",
    "\n",
    "pd.set_option('display.max_columns', None)\n"
   ]
  },
  {
   "cell_type": "code",
   "execution_count": 2,
   "metadata": {},
   "outputs": [],
   "source": [
    "# Load data\n",
    "df = pd.read_csv(\n",
    "    \"../../data/Angoss Knowledge Seeker - carclaims.txt/carclaims_original.csv\"\n",
    ")\n",
    "# Drop row with missing data\n",
    "df.drop(df[df[\"DayOfWeekClaimed\"] == \"0\"].index, inplace=True)\n",
    "# Drop ID column\n",
    "df.drop(columns=\"PolicyNumber\", inplace=True)\n",
    "# df.drop(columns=\"Age\", inplace=True)\n",
    "\n",
    "# Train-test split\n",
    "carclaims_train, carclaims_test = train_test_split(df, test_size=0.2, random_state=141)"
   ]
  },
  {
   "cell_type": "code",
   "execution_count": 3,
   "metadata": {},
   "outputs": [],
   "source": [
    "# synthesizer = TVAESynthesizer.load(\n",
    "#     filepath='my_synthesizer_92_8.pkl'\n",
    "# )\n",
    "\n",
    "# synthetic_data = synthesizer.sample(\n",
    "#     num_rows=100_000,\n",
    "#     batch_size=1_000\n",
    "# )\n",
    "\n",
    "X_train = carclaims_train.drop('FraudFound', axis=1)\n",
    "y_train = carclaims_train['FraudFound']\n",
    "\n",
    "X_test = carclaims_test.drop('FraudFound', axis=1)\n",
    "y_test = carclaims_test['FraudFound']\n",
    "\n",
    "# Encode target variable\n",
    "y_train = y_train.map({'Yes': 1, 'No': 0})\n",
    "y_test = y_test.map({'Yes': 1, 'No': 0})\n",
    "y_train = y_train.astype(int)\n",
    "y_test = y_test.astype(int)\n",
    "\n",
    "# Label Encode features\n",
    "column_labels = {\n",
    "    'AgeOfPolicyHolder': ['16 to 17', '18 to 20', '21 to 25', '26 to 30', '31 to 35', '36 to 40', '41 to 50', '51 to 65', 'over 65'],\n",
    "    'NumberOfSuppliments': ['none', '1 to 2', '3 to 5', 'more than 5'],\n",
    "    'AddressChange-Claim': ['no change', 'under 6 months', '1 year', '2 to 3 years', '4 to 8 years'],\n",
    "    'NumberOfCars': ['1 vehicle', '2 vehicles', '3 to 4', '5 to 8', 'more than 8'],\n",
    "    'VehiclePrice': ['less than 20,000', '20,000 to 29,000', '30,000 to 39,000', '40,000 to 59,000', '60,000 to 69,000', 'more than 69,000'],\n",
    "    'Days:Policy-Accident': ['none', '1 to 7', '15 to 30', '8 to 15', 'more than 30'],\n",
    "    'Days:Policy-Claim': ['15 to 30', '8 to 15', 'more than 30'],\n",
    "    'PastNumberOfClaims': ['none', '1', '2 to 4', 'more than 4'],\n",
    "    'AgeOfVehicle': ['new', '2 years', '3 years', '4 years', '5 years', '6 years', '7 years', 'more than 7'],\n",
    "    'Deductible': [300, 400, 500, 700]\n",
    "    }\n",
    "for column, labels in column_labels.items():\n",
    "    oe = OrdinalEncoder(categories=[labels], handle_unknown='error')\n",
    "    X_train[column] = oe.fit_transform(X_train[[column]])\n",
    "    X_test[column] = oe.transform(X_test[[column]])\n",
    "    \n",
    "# one hot encode\n",
    "columns_one_hot = {\n",
    "    'Make': ['Accura', 'BMW', 'Chevrolet', 'Dodge', 'Ferrari', 'Ford', 'Honda', 'Jaguar', 'Lexus', 'Mazda', 'Mecedes', 'Mercury', 'Nisson', 'Pontiac', 'Porche', 'Saab', 'Saturn', 'Toyota', 'VW'],\n",
    "    'Month': ['Jan', 'Feb', 'Mar', 'Apr', 'May', 'Jun', 'Jul', 'Aug', 'Sep', 'Oct', 'Nov', 'Dec'],\n",
    "    'DayOfWeek': ['Monday', 'Tuesday', 'Wednesday', 'Thursday', 'Friday', 'Saturday', 'Sunday'],\n",
    "    'DayOfWeekClaimed': ['Monday', 'Tuesday', 'Wednesday', 'Thursday', 'Friday', 'Saturday', 'Sunday'],\n",
    "    'MonthClaimed': ['Jan', 'Feb', 'Mar', 'Apr', 'May', 'Jun', 'Jul', 'Aug', 'Sep', 'Oct', 'Nov', 'Dec'],\n",
    "    'AccidentArea': ['Rural', 'Urban'],\n",
    "    'Sex': ['Female', 'Male'],\n",
    "    'MaritalStatus': ['Divorced', 'Married', 'Single', 'Widow'],\n",
    "    'PoliceReportFiled': ['No', 'Yes'],\n",
    "    'WitnessPresent': ['No', 'Yes'],\n",
    "    'AgentType': ['External', 'Internal'],\n",
    "    'BasePolicy': ['All Perils', 'Collision', 'Liability'],\n",
    "    'Fault': ['Policy Holder', 'Third Party'],\n",
    "    'PolicyType': ['Sedan - All Perils', 'Sedan - Collision', 'Sedan - Liability','Sport - All Perils', 'Sport - Collision', 'Sport - Liability', 'Utility - All Perils', 'Utility - Collision', 'Utility - Liability'],\n",
    "    'VehicleCategory': ['Sedan', 'Sport', 'Utility'],\n",
    "    'Year': [1994, 1995, 1996],\n",
    "    #\n",
    "    \n",
    "}\n",
    "for column, labels in columns_one_hot.items():\n",
    "    ohe = OneHotEncoder(sparse_output=False, categories=[labels], drop='first', handle_unknown='error')\n",
    "    encoded_nominal = ohe.fit_transform(X_train[[column]])\n",
    "    X_train = pd.concat([X_train, pd.DataFrame(encoded_nominal, columns=ohe.get_feature_names_out([column]), index=X_train.index)], axis=1)\n",
    "    encoded_nominal = ohe.transform(X_test[[column]])\n",
    "    X_test = pd.concat([X_test, pd.DataFrame(encoded_nominal, columns=ohe.get_feature_names_out([column]), index=X_test.index)], axis=1)\n",
    "X_test.drop(columns=columns_one_hot.keys(), axis=1, inplace=True)\n",
    "X_train.drop(columns=columns_one_hot.keys(), axis=1, inplace=True)"
   ]
  },
  {
   "cell_type": "code",
   "execution_count": 4,
   "metadata": {},
   "outputs": [],
   "source": [
    "# tsne_model = TSNE(learning_rate=1000)\n",
    "\n",
    "# tsne_features = tsne_model.fit_transform(X_train)"
   ]
  },
  {
   "cell_type": "code",
   "execution_count": 5,
   "metadata": {},
   "outputs": [],
   "source": [
    "# plt.figure(figsize=(8, 8))\n",
    "# plt.scatter(tsne_features[:,0], tsne_features[:,1], c=y_train.map({0: 'green', 1: 'red'}), s=5)\n",
    "# plt.show()"
   ]
  },
  {
   "cell_type": "code",
   "execution_count": 6,
   "metadata": {},
   "outputs": [],
   "source": [
    "neighbors = NearestNeighbors(n_neighbors=180)\n",
    "neighbors_fit = neighbors.fit(X_train)\n",
    "distances, indices = neighbors_fit.kneighbors(X_train)"
   ]
  },
  {
   "cell_type": "code",
   "execution_count": 7,
   "metadata": {},
   "outputs": [
    {
     "data": {
      "text/plain": [
       "[<matplotlib.lines.Line2D at 0x7f80843c8050>]"
      ]
     },
     "execution_count": 7,
     "metadata": {},
     "output_type": "execute_result"
    },
    {
     "data": {
      "image/png": "[encoded data removed]",
      "text/plain": [
       "<Figure size 640x480 with 1 Axes>"
      ]
     },
     "metadata": {},
     "output_type": "display_data"
    }
   ],
   "source": [
    "avg_distance = distances.mean(axis=1)\n",
    "plt.plot(np.sort(avg_distance))"
   ]
  },
  {
   "cell_type": "code",
   "execution_count": 8,
   "metadata": {},
   "outputs": [
    {
     "data": {
      "text/plain": [
       "Cluster\n",
       " 0    11763\n",
       "-1      572\n",
       "Name: count, dtype: int64"
      ]
     },
     "execution_count": 8,
     "metadata": {},
     "output_type": "execute_result"
    }
   ],
   "source": [
    "sc = DBSCAN(eps=6.5, min_samples=180)\n",
    "clusters = pd.DataFrame(sc.fit_predict(X_train), columns=['Cluster'], index=X_train.index)\n",
    "clusters['Cluster'].value_counts()"
   ]
  },
  {
   "cell_type": "code",
   "execution_count": 9,
   "metadata": {},
   "outputs": [],
   "source": [
    "# colors = clusters['Cluster'].map({-1: 'red', 0: 'yellow', 1: 'green', 2: 'blue'})\n",
    "# plt.figure(figsize=(8, 8))\n",
    "# plt.scatter(tsne_features[:,0], tsne_features[:,1], c=colors, s=5)\n",
    "# plt.show()"
   ]
  },
  {
   "cell_type": "code",
   "execution_count": 10,
   "metadata": {},
   "outputs": [
    {
     "name": "stdout",
     "output_type": "stream",
     "text": [
      "The best value for min_samples is 175 with a silhouette score of 0.5343675273498789\n"
     ]
    }
   ],
   "source": [
    "from sklearn.metrics import silhouette_score\n",
    "# Optimal value for eps\n",
    "eps = 6.5\n",
    " \n",
    "# Range of values for min_samples to explore\n",
    "min_samples_range = range(80, 200)\n",
    " \n",
    "# Initialize a list to save silhouette scores\n",
    "silhouette_scores = []\n",
    " \n",
    "# Compute silhouette score for each min_samples value\n",
    "for min_samples in min_samples_range:\n",
    "    dbscan = DBSCAN(eps=eps, min_samples=min_samples)\n",
    "    labels = dbscan.fit_predict(X_train)\n",
    "    if len(np.unique(labels)) > 1:  # Ensure there are at least 2 clusters\n",
    "        silhouette_avg = silhouette_score(X_train, labels)\n",
    "        silhouette_scores.append(silhouette_avg)\n",
    "    else:\n",
    "        silhouette_scores.append(-1)  # Set a negative score if there's only one cluster\n",
    " \n",
    "# Find the min_samples value with the maximum silhouette score\n",
    "best_min_samples = min_samples_range[np.argmax(silhouette_scores)]\n",
    "best_silhouette_score = max(silhouette_scores)\n",
    " \n",
    "print(f\"The best value for min_samples is {best_min_samples} with a silhouette score of {best_silhouette_score}\")"
   ]
  },
  {
   "cell_type": "code",
   "execution_count": 11,
   "metadata": {},
   "outputs": [],
   "source": [
    "opt = BayesSearchCV(\n",
    "    XGBClassifier(),\n",
    "    {\n",
    "        'n_estimators': (2, 200),\n",
    "        'max_depth': (2, 35),\n",
    "        # 'gamma': (1e-6, 1e+1, 'log-uniform'),\n",
    "        # 'reg_lambda': (1, 8, 'uniform'),\n",
    "        # 'booster': ['gbtree', 'gblinear', 'dart'],\n",
    "        # \"tree_method\": ['exact', 'approx', 'hist']\n",
    "    },\n",
    "    n_iter=10,\n",
    "    cv=5,\n",
    "    scoring='f1'\n",
    ")"
   ]
  },
  {
   "cell_type": "code",
   "execution_count": 12,
   "metadata": {},
   "outputs": [
    {
     "name": "stdout",
     "output_type": "stream",
     "text": [
      "val. score for 0: 0.14993887732644254\n",
      "val. score for -1: 0.16825396825396824\n"
     ]
    },
    {
     "data": {
      "text/plain": [
       "{0: XGBClassifier(base_score=None, booster=None, callbacks=None,\n",
       "               colsample_bylevel=None, colsample_bynode=None,\n",
       "               colsample_bytree=None, device=None, early_stopping_rounds=None,\n",
       "               enable_categorical=False, eval_metric=None, feature_types=None,\n",
       "               gamma=None, grow_policy=None, importance_type=None,\n",
       "               interaction_constraints=None, learning_rate=None, max_bin=None,\n",
       "               max_cat_threshold=None, max_cat_to_onehot=None,\n",
       "               max_delta_step=None, max_depth=8, max_leaves=None,\n",
       "               min_child_weight=None, missing=nan, monotone_constraints=None,\n",
       "               multi_strategy=None, n_estimators=129, n_jobs=None,\n",
       "               num_parallel_tree=None, random_state=None, ...),\n",
       " -1: XGBClassifier(base_score=None, booster=None, callbacks=None,\n",
       "               colsample_bylevel=None, colsample_bynode=None,\n",
       "               colsample_bytree=None, device=None, early_stopping_rounds=None,\n",
       "               enable_categorical=False, eval_metric=None, feature_types=None,\n",
       "               gamma=None, grow_policy=None, importance_type=None,\n",
       "               interaction_constraints=None, learning_rate=None, max_bin=None,\n",
       "               max_cat_threshold=None, max_cat_to_onehot=None,\n",
       "               max_delta_step=None, max_depth=30, max_leaves=None,\n",
       "               min_child_weight=None, missing=nan, monotone_constraints=None,\n",
       "               multi_strategy=None, n_estimators=80, n_jobs=None,\n",
       "               num_parallel_tree=None, random_state=None, ...)}"
      ]
     },
     "execution_count": 12,
     "metadata": {},
     "output_type": "execute_result"
    }
   ],
   "source": [
    "cls = clusters['Cluster'].unique()\n",
    "\n",
    "models = {}\n",
    "for c in cls:\n",
    "    opt.fit(X_train[clusters['Cluster'] == c], y_train[clusters['Cluster'] == c])\n",
    "    print(f'val. score for {c}: {opt.best_score_}')\n",
    "    models[c] = opt.best_estimator_\n",
    "    \n",
    "models"
   ]
  },
  {
   "cell_type": "code",
   "execution_count": 13,
   "metadata": {},
   "outputs": [
    {
     "name": "stdout",
     "output_type": "stream",
     "text": [
      "Accuracy: 0.94\n",
      "Precision: 0.40\n",
      "Recall: 0.08\n",
      "F1 Score: 0.13\n"
     ]
    }
   ],
   "source": [
    "test_clusters = pd.DataFrame(sc.fit_predict(X_test), columns=[\"Cluster\"], index=X_test.index)\n",
    "test_results = X_test.copy()\n",
    "test_results[\"Cluster\"] = test_clusters[\"Cluster\"]\n",
    "test_results['Prediction'] = 0\n",
    "\n",
    "# Iterate through clusters and test corresponding models\n",
    "for c in test_clusters[\"Cluster\"].unique():\n",
    "    # Get data for the current cluster\n",
    "    cluster_data = X_test[test_results[\"Cluster\"] == c]\n",
    "    \n",
    "    if c in models:\n",
    "        test_results.loc[cluster_data.index, 'Prediction'] = models[c].predict(cluster_data)\n",
    "    else:\n",
    "        print(f\"No model available for cluster {c}.\")\n",
    "        \n",
    "# Combine predictions\n",
    "# predictions.sort(key=lambda x: x[0])  # Sort by index\n",
    "final_predictions = test_results['Prediction']\n",
    "\n",
    "# Evaluate performance\n",
    "accuracy = accuracy_score(y_test, final_predictions)\n",
    "precision = precision_score(y_test, final_predictions)\n",
    "recall = recall_score(y_test, final_predictions)\n",
    "f1 = f1_score(y_test, final_predictions)\n",
    "\n",
    "print(f\"Accuracy: {accuracy:.2f}\")\n",
    "print(f\"Precision: {precision:.2f}\")\n",
    "print(f\"Recall: {recall:.2f}\")\n",
    "print(f\"F1 Score: {f1:.2f}\")"
   ]
  },
  {
   "cell_type": "code",
   "execution_count": 15,
   "metadata": {},
   "outputs": [
    {
     "data": {
      "text/plain": [
       "array([ 0, -1])"
      ]
     },
     "execution_count": 15,
     "metadata": {},
     "output_type": "execute_result"
    }
   ],
   "source": [
    "test_clusters[\"Cluster\"].unique()"
   ]
  },
  {
   "cell_type": "code",
   "execution_count": null,
   "metadata": {},
   "outputs": [],
   "source": []
  }
 ],
 "metadata": {
  "kernelspec": {
   "display_name": "mlr503-project",
   "language": "python",
   "name": "python3"
  },
  "language_info": {
   "codemirror_mode": {
    "name": "ipython",
    "version": 3
   },
   "file_extension": ".py",
   "mimetype": "text/x-python",
   "name": "python",
   "nbconvert_exporter": "python",
   "pygments_lexer": "ipython3",
   "version": "3.12.7"
  }
 },
 "nbformat": 4,
 "nbformat_minor": 2
}
