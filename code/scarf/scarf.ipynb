{
 "cells": [
  {
   "cell_type": "code",
   "execution_count": 1,
   "metadata": {},
   "outputs": [],
   "source": [
    "from ts3l.pl_modules import SCARFLightning\n",
    "from ts3l.utils.scarf_utils import SCARFDataset\n",
    "from ts3l.utils import TS3LDataModule\n",
    "from ts3l.utils.scarf_utils import SCARFConfig\n",
    "from pytorch_lightning import Trainer\n",
    "import pandas as pd\n",
    "import numpy as np\n",
    "from sklearn.model_selection import train_test_split\n",
    "from sklearn.preprocessing import StandardScaler\n",
    "import matplotlib.pyplot as plt\n",
    "import pandas as pd\n",
    "from sklearn.preprocessing import OneHotEncoder, OrdinalEncoder\n",
    "from sklearn.metrics import (\n",
    "    precision_score,\n",
    "    recall_score,\n",
    "    f1_score,\n",
    "    accuracy_score,\n",
    ")"
   ]
  },
  {
   "cell_type": "code",
   "execution_count": 2,
   "metadata": {},
   "outputs": [],
   "source": [
    "# Load data\n",
    "df = pd.read_csv(\n",
    "    \"../../data/Angoss Knowledge Seeker - carclaims.txt/carclaims_original.csv\"\n",
    ")\n",
    "# Drop row with missing data\n",
    "df.drop(df[df[\"DayOfWeekClaimed\"] == \"0\"].index, inplace=True)\n",
    "# Drop ID column\n",
    "df.drop(columns=\"PolicyNumber\", inplace=True)\n",
    "\n",
    "# Train-test split\n",
    "carclaims_train, carclaims_test = train_test_split(df, test_size=0.2, random_state=42)"
   ]
  },
  {
   "cell_type": "code",
   "execution_count": 3,
   "metadata": {},
   "outputs": [],
   "source": [
    "X_train = carclaims_train.drop('FraudFound', axis=1)\n",
    "y_train = carclaims_train['FraudFound']\n",
    "\n",
    "X_test = carclaims_test.drop('FraudFound', axis=1)\n",
    "y_test = carclaims_test['FraudFound']\n",
    "\n",
    "# Encode target variable\n",
    "y_train = y_train.map({'Yes': 1, 'No': 0})\n",
    "y_test = y_test.map({'Yes': 1, 'No': 0})\n",
    "\n",
    "y_train = y_train.astype(int)\n",
    "y_test = y_test.astype(int)\n",
    "# Lebel Encode features\n",
    "column_labels = {\n",
    "    'AgeOfPolicyHolder': ['16 to 17', '18 to 20', '21 to 25', '26 to 30', '31 to 35', '36 to 40', '41 to 50', '51 to 65', 'over 65'],\n",
    "    'NumberOfSuppliments': ['none', '1 to 2', '3 to 5', 'more than 5'],\n",
    "    'AddressChange-Claim': ['no change', 'under 6 months', '1 year', '2 to 3 years', '4 to 8 years'],\n",
    "    'NumberOfCars': ['1 vehicle', '2 vehicles', '3 to 4', '5 to 8', 'more than 8'],\n",
    "    'VehiclePrice': ['less than 20,000', '20,000 to 29,000', '30,000 to 39,000', '40,000 to 59,000', '60,000 to 69,000', 'more than 69,000'],\n",
    "    'Days:Policy-Accident': ['none', '1 to 7', '15 to 30', '8 to 15', 'more than 30'],\n",
    "    'Days:Policy-Claim': ['15 to 30', '8 to 15', 'more than 30'],\n",
    "    'PastNumberOfClaims': ['none', '1', '2 to 4', 'more than 4'],\n",
    "    'AgeOfVehicle': ['new', '2 years', '3 years', '4 years', '5 years', '6 years', '7 years', 'more than 7'],\n",
    "    'Deductible': [300, 400, 500, 700]\n",
    "}\n",
    "for column, labels in column_labels.items():\n",
    "    oe = OrdinalEncoder(categories=[labels], handle_unknown='error')\n",
    "    X_train[column] = oe.fit_transform(X_train[[column]])\n",
    "    X_test[column] = oe.transform(X_test[[column]])\n",
    "# one hot encode\n",
    "columns_one_hot = {\n",
    "    'Make': ['Accura', 'BMW', 'Chevrolet', 'Dodge', 'Ferrari', 'Ford', 'Honda', 'Jaguar', 'Lexus', 'Mazda', 'Mecedes', 'Mercury', 'Nisson', 'Pontiac', 'Porche', 'Saab', 'Saturn', 'Toyota', 'VW'],\n",
    "    'Month': ['Jan', 'Feb', 'Mar', 'Apr', 'May', 'Jun', 'Jul', 'Aug', 'Sep', 'Oct', 'Nov', 'Dec'],\n",
    "    'DayOfWeek': ['Monday', 'Tuesday', 'Wednesday', 'Thursday', 'Friday', 'Saturday', 'Sunday'],\n",
    "    'DayOfWeekClaimed': ['Monday', 'Tuesday', 'Wednesday', 'Thursday', 'Friday', 'Saturday', 'Sunday'],\n",
    "    'MonthClaimed': ['Jan', 'Feb', 'Mar', 'Apr', 'May', 'Jun', 'Jul', 'Aug', 'Sep', 'Oct', 'Nov', 'Dec'],\n",
    "    'AccidentArea': ['Rural', 'Urban'],\n",
    "    'Sex': ['Female', 'Male'],\n",
    "    'MaritalStatus': ['Divorced', 'Married', 'Single', 'Widow'],\n",
    "    'PoliceReportFiled': ['No', 'Yes'],\n",
    "    'WitnessPresent': ['No', 'Yes'],\n",
    "    'AgentType': ['External', 'Internal'],\n",
    "    'BasePolicy': ['All Perils', 'Collision', 'Liability'],\n",
    "    'Fault': ['Policy Holder', 'Third Party'],\n",
    "    'PolicyType': ['Sedan - All Perils', 'Sedan - Collision', 'Sedan - Liability','Sport - All Perils', 'Sport - Collision', 'Sport - Liability', 'Utility - All Perils', 'Utility - Collision', 'Utility - Liability'],\n",
    "    'VehicleCategory': ['Sedan', 'Sport', 'Utility'],\n",
    "    'Year': [1994, 1995, 1996],    \n",
    "}\n",
    "for column, labels in columns_one_hot.items():\n",
    "    ohe = OneHotEncoder(sparse_output=False, categories=[labels], drop='first', handle_unknown='error')\n",
    "    encoded_nominal = ohe.fit_transform(X_train[[column]])\n",
    "    X_train = pd.concat([X_train, pd.DataFrame(encoded_nominal, columns=ohe.get_feature_names_out([column]), index=X_train.index)], axis=1)\n",
    "    encoded_nominal = ohe.transform(X_test[[column]])\n",
    "    X_test = pd.concat([X_test, pd.DataFrame(encoded_nominal, columns=ohe.get_feature_names_out([column]), index=X_test.index)], axis=1)\n",
    "X_test.drop(columns=columns_one_hot.keys(), axis=1, inplace=True)\n",
    "X_train.drop(columns=columns_one_hot.keys(), axis=1, inplace=True)\n",
    "\n",
    "\n",
    "X_train, X_valid, y_train, y_valid = train_test_split(X_train, y_train, test_size=0.2, random_state=42, stratify=y_train)"
   ]
  },
  {
   "cell_type": "code",
   "execution_count": null,
   "metadata": {},
   "outputs": [
    {
     "name": "stderr",
     "output_type": "stream",
     "text": [
      "Seed set to 42\n",
      "GPU available: True (cuda), used: True\n",
      "TPU available: False, using: 0 TPU cores\n",
      "HPU available: False, using: 0 HPUs\n",
      "You are using a CUDA device ('NVIDIA GeForce RTX 4060 Laptop GPU') that has Tensor Cores. To properly utilize them, you should set `torch.set_float32_matmul_precision('medium' | 'high')` which will trade-off precision for performance. For more details, read https://pytorch.org/docs/stable/generated/torch.set_float32_matmul_precision.html#torch.set_float32_matmul_precision\n",
      "2024-11-21 15:10:58.900558: I tensorflow/core/util/port.cc:153] oneDNN custom operations are on. You may see slightly different numerical results due to floating-point round-off errors from different computation orders. To turn them off, set the environment variable `TF_ENABLE_ONEDNN_OPTS=0`.\n",
      "2024-11-21 15:10:59.060438: E external/local_xla/xla/stream_executor/cuda/cuda_fft.cc:477] Unable to register cuFFT factory: Attempting to register factory for plugin cuFFT when one has already been registered\n",
      "WARNING: All log messages before absl::InitializeLog() is called are written to STDERR\n",
      "E0000 00:00:1732187459.123988    3339 cuda_dnn.cc:8310] Unable to register cuDNN factory: Attempting to register factory for plugin cuDNN when one has already been registered\n",
      "E0000 00:00:1732187459.143692    3339 cuda_blas.cc:1418] Unable to register cuBLAS factory: Attempting to register factory for plugin cuBLAS when one has already been registered\n",
      "2024-11-21 15:10:59.307126: I tensorflow/core/platform/cpu_feature_guard.cc:210] This TensorFlow binary is optimized to use available CPU instructions in performance-critical operations.\n",
      "To enable the following instructions: AVX2 AVX_VNNI FMA, in other operations, rebuild TensorFlow with the appropriate compiler flags.\n",
      "/home/abdussaboor/.virtualenvs/mlr503-project/lib/python3.12/site-packages/torch/utils/data/dataloader.py:617: UserWarning: This DataLoader will create 32 worker processes in total. Our suggested max number of worker in current system is 20, which is smaller than what this DataLoader is going to create. Please be aware that excessive worker creation might get DataLoader running slow or even freeze, lower the worker number to avoid potential slowness/freeze if necessary.\n",
      "  warnings.warn(\n",
      "LOCAL_RANK: 0 - CUDA_VISIBLE_DEVICES: [0]\n",
      "\n",
      "  | Name             | Type             | Params | Mode \n",
      "--------------------------------------------------------------\n",
      "0 | task_loss_fn     | CrossEntropyLoss | 0      | train\n",
      "1 | contrastive_loss | NTXentLoss       | 0      | train\n",
      "2 | model            | SCARF            | 3.3 M  | train\n",
      "--------------------------------------------------------------\n",
      "3.3 M     Trainable params\n",
      "0         Non-trainable params\n",
      "3.3 M     Total params\n",
      "13.001    Total estimated model params size (MB)\n",
      "20        Modules in train mode\n",
      "0         Modules in eval mode\n"
     ]
    },
    {
     "data": {
      "application/vnd.jupyter.widget-view+json": {
       "model_id": "eddd4b4080fc4c8c90b5402a15b25ebb",
       "version_major": 2,
       "version_minor": 0
      },
      "text/plain": [
       "Sanity Checking: |          | 0/? [00:00<?, ?it/s]"
      ]
     },
     "metadata": {},
     "output_type": "display_data"
    },
    {
     "name": "stderr",
     "output_type": "stream",
     "text": [
      "/home/abdussaboor/.virtualenvs/mlr503-project/lib/python3.12/site-packages/pytorch_lightning/loops/fit_loop.py:298: The number of training batches (39) is smaller than the logging interval Trainer(log_every_n_steps=50). Set a lower value for log_every_n_steps if you want to see logs for the training epoch.\n"
     ]
    },
    {
     "data": {
      "application/vnd.jupyter.widget-view+json": {
       "model_id": "c90969880dfe44268f28095001a619e8",
       "version_major": 2,
       "version_minor": 0
      },
      "text/plain": [
       "Training: |          | 0/? [00:00<?, ?it/s]"
      ]
     },
     "metadata": {},
     "output_type": "display_data"
    },
    {
     "data": {
      "application/vnd.jupyter.widget-view+json": {
       "model_id": "a2c62abd5113498093bedd8447c17e16",
       "version_major": 2,
       "version_minor": 0
      },
      "text/plain": [
       "Validation: |          | 0/? [00:00<?, ?it/s]"
      ]
     },
     "metadata": {},
     "output_type": "display_data"
    },
    {
     "data": {
      "application/vnd.jupyter.widget-view+json": {
       "model_id": "be7a696c9e504459b19c9afe3d17adc9",
       "version_major": 2,
       "version_minor": 0
      },
      "text/plain": [
       "Validation: |          | 0/? [00:00<?, ?it/s]"
      ]
     },
     "metadata": {},
     "output_type": "display_data"
    },
    {
     "data": {
      "application/vnd.jupyter.widget-view+json": {
       "model_id": "6799ce56de7d4c4491e68dfd1caf3719",
       "version_major": 2,
       "version_minor": 0
      },
      "text/plain": [
       "Validation: |          | 0/? [00:00<?, ?it/s]"
      ]
     },
     "metadata": {},
     "output_type": "display_data"
    }
   ],
   "source": [
    "metric = \"accuracy_score\"\n",
    "input_dim = X_train.shape[1]\n",
    "hidden_dim = 1024\n",
    "output_dim = 2\n",
    "encoder_depth = 3\n",
    "head_depth = 1\n",
    "dropout_rate = 0.04\n",
    "\n",
    "corruption_rate = 0.6\n",
    "\n",
    "batch_size = 256\n",
    "max_epochs = 100\n",
    "\n",
    "X_train, X_unlabeled, y_train, _ = train_test_split(X_train, y_train, train_size = 0.1, random_state=42, stratify=y_train)\n",
    "\n",
    "config = SCARFConfig( task=\"classification\", loss_fn=\"CrossEntropyLoss\", metric=metric, metric_hparams={},\n",
    "input_dim=input_dim, hidden_dim=hidden_dim,\n",
    "output_dim=output_dim, encoder_depth=encoder_depth, head_depth=head_depth,\n",
    "dropout_rate=dropout_rate, corruption_rate = corruption_rate\n",
    ")\n",
    "\n",
    "pl_scarf = SCARFLightning(config)\n",
    "\n",
    "### First Phase Learning\n",
    "train_ds = SCARFDataset(X_train, unlabeled_data=X_unlabeled, config = config)\n",
    "valid_ds = SCARFDataset(X_valid, config=config)\n",
    "\n",
    "datamodule = TS3LDataModule(train_ds, valid_ds, batch_size=batch_size, train_sampler=\"random\")\n",
    "\n",
    "trainer = Trainer(\n",
    "                    accelerator = 'cuda',\n",
    "                    max_epochs = max_epochs,\n",
    "                    num_sanity_val_steps = 2,\n",
    "    )\n",
    "\n",
    "trainer.fit(pl_scarf, datamodule)\n",
    "\n",
    "### Second Phase Learning\n",
    "\n",
    "pl_scarf.set_second_phase()\n",
    "\n",
    "train_ds = SCARFDataset(X_train, y_train.values, is_second_phase=True)\n",
    "valid_ds = SCARFDataset(X_valid, y_valid.values, is_second_phase=True)\n",
    "\n",
    "datamodule = TS3LDataModule(train_ds, valid_ds, batch_size = batch_size, train_sampler=\"weighted\")\n",
    "\n",
    "trainer.fit(pl_scarf, datamodule)"
   ]
  },
  {
   "cell_type": "code",
   "execution_count": null,
   "metadata": {},
   "outputs": [
    {
     "data": {
      "text/plain": [
       "0.0995850622406639"
      ]
     },
     "execution_count": 7,
     "metadata": {},
     "output_type": "execute_result"
    }
   ],
   "source": [
    "# Evaluation\n",
    "from sklearn.metrics import accuracy_score\n",
    "import torch\n",
    "from torch.nn import functional as F\n",
    "from torch.utils.data import DataLoader, SequentialSampler\n",
    "\n",
    "test_ds = SCARFDataset(X_test, is_second_phase=True)\n",
    "test_dl = DataLoader(test_ds, batch_size, shuffle=False, sampler = SequentialSampler(test_ds), num_workers=4)\n",
    "\n",
    "preds = trainer.predict(pl_scarf, test_dl)\n",
    "        \n",
    "preds = F.softmax(torch.concat([out.cpu() for out in preds]).squeeze(),dim=1)\n",
    "\n",
    "accuracy = accuracy_score(y_test, preds.argmax(1))\n",
    "f1 = f1_score(y_test, preds.argmax(1))\n",
    "\n",
    "print(\"Accuracy %.2f\" % accuracy)\n",
    "print(\"F1 %.2f\" % f1)"
   ]
  },
  {
   "cell_type": "code",
   "execution_count": null,
   "metadata": {},
   "outputs": [],
   "source": []
  }
 ],
 "metadata": {
  "kernelspec": {
   "display_name": "mlr503-project",
   "language": "python",
   "name": "python3"
  },
  "language_info": {
   "codemirror_mode": {
    "name": "ipython",
    "version": 3
   },
   "file_extension": ".py",
   "mimetype": "text/x-python",
   "name": "python",
   "nbconvert_exporter": "python",
   "pygments_lexer": "ipython3",
   "version": "3.12.7"
  }
 },
 "nbformat": 4,
 "nbformat_minor": 2
}
