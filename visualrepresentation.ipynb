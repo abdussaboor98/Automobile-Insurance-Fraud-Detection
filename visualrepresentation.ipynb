{
 "cells": [
  {
   "cell_type": "code",
   "execution_count": 6,
   "id": "ef401918-17e5-44c0-8fef-a6d0da7f5e2b",
   "metadata": {},
   "outputs": [],
   "source": [
    "import pandas as pd\n",
    "import numpy as np\n",
    "import matplotlib.pyplot as plt\n",
    "import seaborn as sns\n"
   ]
  },
  {
   "cell_type": "code",
   "execution_count": 7,
   "id": "3feec86c-3eb5-4ed4-b4d1-f3bada6a63b9",
   "metadata": {},
   "outputs": [],
   "source": [
    "\n",
    "data = pd.read_csv('carclaims.csv')"
   ]
  },
  {
   "cell_type": "code",
   "execution_count": 8,
   "id": "292357ed-d617-402f-a80c-1852bb6c4ca9",
   "metadata": {},
   "outputs": [],
   "source": [
    "\n",
    "selected_columns = ['Month', 'DayOfWeek', 'Make', 'AccidentArea', \n",
    "                    'DayOfWeekClaimed', 'MonthClaimed', 'Sex', 'MaritalStatus']\n"
   ]
  },
  {
   "cell_type": "code",
   "execution_count": 9,
   "id": "8a6c59a3-223d-43aa-9504-78dad7ccb593",
   "metadata": {},
   "outputs": [],
   "source": [
    "\n",
    "\n",
    "data_encoded = pd.get_dummies(data, columns=data.columns, drop_first=True)"
   ]
  },
  {
   "cell_type": "code",
   "execution_count": null,
   "id": "5b79db08-9719-4d24-951c-e1cf892fa68d",
   "metadata": {},
   "outputs": [],
   "source": [
    "\n",
    "\n",
    "\n",
    "correlation_results = {}\n",
    "\n",
    "\n",
    "for col in selected_columns:\n",
    "   \n",
    "    correlation_with_others = data_encoded.corr()[col]\n",
    "    \n",
    "   \n",
    "    correlation_results[col] = correlation_with_others\n",
    "\n",
    "  \n",
    "    print(f\"Correlation of '{col}' with other attributes:\\n{correlation_with_others}\\n\")\n",
    "\n"
   ]
  },
  {
   "cell_type": "code",
   "execution_count": null,
   "id": "73859fe9-424a-42f6-9dbc-9df27ae56735",
   "metadata": {},
   "outputs": [],
   "source": [
    " \n",
    "    plt.figure(figsize=(10, 6))\n",
    "    sns.heatmap(\n",
    "        correlation_with_others.values.reshape(1, -1), \n",
    "            annot=True, fmt=\".2f\", \n",
    "            yticklabels=[col], \n",
    "             xticklabels=correlation_with_others.index, \n",
    "            cmap='coolwarm', cbar=True\n",
    "                )\n",
    "\n",
    "    plt.title(f'Correlation of {col} with Other Attributes')\n",
    "    plt.xticks(rotation=45)\n",
    "    plt.show()"
   ]
  },
  {
   "cell_type": "code",
   "execution_count": null,
   "id": "fb9f0119-7e25-4123-aee6-10b2cc2b7c01",
   "metadata": {},
   "outputs": [],
   "source": []
  }
 ],
 "metadata": {
  "kernelspec": {
   "display_name": "Python 3 (ipykernel)",
   "language": "python",
   "name": "python3"
  },
  "language_info": {
   "codemirror_mode": {
    "name": "ipython",
    "version": 3
   },
   "file_extension": ".py",
   "mimetype": "text/x-python",
   "name": "python",
   "nbconvert_exporter": "python",
   "pygments_lexer": "ipython3",
   "version": "3.12.6"
  }
 },
 "nbformat": 4,
 "nbformat_minor": 5
}
